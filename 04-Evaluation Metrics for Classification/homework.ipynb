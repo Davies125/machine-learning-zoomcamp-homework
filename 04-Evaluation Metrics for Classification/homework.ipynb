{
 "cells": [
  {
   "cell_type": "markdown",
   "id": "24f43f42",
   "metadata": {},
   "source": [
    "# Homework 4 — Lead Scoring (Bank Marketing Dataset)"
   ]
  },
  {
   "cell_type": "markdown",
   "id": "1de94d8d",
   "metadata": {},
   "source": [
    "### importing Necessary libraries"
   ]
  },
  {
   "cell_type": "code",
   "execution_count": 1,
   "id": "c8d8ecb0",
   "metadata": {},
   "outputs": [],
   "source": [
    "import pandas as pd\n",
    "import numpy as np\n",
    "from sklearn.model_selection import train_test_split, KFold\n",
    "from sklearn.linear_model import LogisticRegression\n",
    "from sklearn.feature_extraction import DictVectorizer\n",
    "from sklearn.metrics import roc_auc_score, precision_score, recall_score\n",
    "from sklearn.metrics import precision_recall_curve\n",
    "import matplotlib.pyplot as plt"
   ]
  },
  {
   "cell_type": "markdown",
   "id": "02cfed11",
   "metadata": {},
   "source": [
    "### Loading the Data"
   ]
  },
  {
   "cell_type": "code",
   "execution_count": 2,
   "id": "6bbd06b2",
   "metadata": {},
   "outputs": [
    {
     "name": "stdout",
     "output_type": "stream",
     "text": [
      "Dataset shape: (1462, 9)\n",
      "    lead_source    industry  number_of_courses_viewed  annual_income  \\\n",
      "0      paid_ads         NaN                         1        79450.0   \n",
      "1  social_media      retail                         1        46992.0   \n",
      "2        events  healthcare                         5        78796.0   \n",
      "3      paid_ads      retail                         2        83843.0   \n",
      "4      referral   education                         3        85012.0   \n",
      "\n",
      "  employment_status       location  interaction_count  lead_score  converted  \n",
      "0        unemployed  south_america                  4        0.94          1  \n",
      "1          employed  south_america                  1        0.80          0  \n",
      "2        unemployed      australia                  3        0.69          1  \n",
      "3               NaN      australia                  1        0.87          0  \n",
      "4     self_employed         europe                  3        0.62          1  \n"
     ]
    }
   ],
   "source": [
    "url = \"https://raw.githubusercontent.com/alexeygrigorev/datasets/master/course_lead_scoring.csv\"\n",
    "df = pd.read_csv(url)\n",
    "\n",
    "print(\"Dataset shape:\", df.shape)\n",
    "print(df.head())"
   ]
  },
  {
   "cell_type": "markdown",
   "id": "304cc6ca",
   "metadata": {},
   "source": [
    "### Data Preparation"
   ]
  },
  {
   "cell_type": "code",
   "execution_count": 3,
   "id": "6720d91c",
   "metadata": {},
   "outputs": [
    {
     "name": "stdout",
     "output_type": "stream",
     "text": [
      "\n",
      "Missing values:\n",
      "lead_source                 128\n",
      "industry                    134\n",
      "number_of_courses_viewed      0\n",
      "annual_income               181\n",
      "employment_status           100\n",
      "location                     63\n",
      "interaction_count             0\n",
      "lead_score                    0\n",
      "converted                     0\n",
      "dtype: int64\n"
     ]
    }
   ],
   "source": [
    "# Check missing values\n",
    "print(\"\\nMissing values:\")\n",
    "print(df.isnull().sum())\n",
    "\n",
    "# Replace missing values\n",
    "for c in df.columns:\n",
    "    if df[c].dtype == 'object':\n",
    "        df[c] = df[c].fillna('NA')\n",
    "    else:\n",
    "        df[c] = df[c].fillna(0.0)\n",
    "\n",
    "# Define target\n",
    "y = df['converted']\n",
    "X = df.drop('converted', axis=1)"
   ]
  },
  {
   "cell_type": "markdown",
   "id": "96632f3e",
   "metadata": {},
   "source": [
    "### Split train/val/test (60/20/20)"
   ]
  },
  {
   "cell_type": "code",
   "execution_count": 4,
   "id": "e04417f5",
   "metadata": {},
   "outputs": [],
   "source": [
    "df_full_train, df_test = train_test_split(df, test_size=0.2, random_state=1)\n",
    "df_train, df_val = train_test_split(df_full_train, test_size=0.25, random_state=1)\n",
    "# (0.25 * 0.8 = 0.2 → 60/20/20)\n",
    "\n",
    "y_train = df_train.converted.values\n",
    "y_val = df_val.converted.values\n",
    "y_test = df_test.converted.values\n"
   ]
  },
  {
   "cell_type": "markdown",
   "id": "03a6611b",
   "metadata": {},
   "source": [
    "###  Question 1: ROC AUC feature importance"
   ]
  },
  {
   "cell_type": "code",
   "execution_count": 5,
   "id": "0689c738",
   "metadata": {},
   "outputs": [
    {
     "name": "stdout",
     "output_type": "stream",
     "text": [
      "lead_score                     AUC = 0.614\n",
      "number_of_courses_viewed       AUC = 0.764\n",
      "interaction_count              AUC = 0.738\n",
      "annual_income                  AUC = 0.552\n"
     ]
    }
   ],
   "source": [
    "num_cols = ['lead_score', 'number_of_courses_viewed', 'interaction_count', 'annual_income']\n",
    "\n",
    "for c in num_cols:\n",
    "    auc = roc_auc_score(y_train, df_train[c])\n",
    "    if auc < 0.5:\n",
    "        auc = roc_auc_score(y_train, -df_train[c])\n",
    "    print(f\"{c:30s} AUC = {auc:.3f}\")"
   ]
  },
  {
   "cell_type": "markdown",
   "id": "8d1e63cc",
   "metadata": {},
   "source": [
    "### Question 2: Training the model"
   ]
  },
  {
   "cell_type": "code",
   "execution_count": 6,
   "id": "74afc76a",
   "metadata": {},
   "outputs": [
    {
     "name": "stdout",
     "output_type": "stream",
     "text": [
      "\n",
      "Validation AUC: 0.817\n"
     ]
    }
   ],
   "source": [
    "dv = DictVectorizer(sparse=False)\n",
    "\n",
    "train_dicts = df_train.drop('converted', axis=1).to_dict(orient='records')\n",
    "val_dicts = df_val.drop('converted', axis=1).to_dict(orient='records')\n",
    "\n",
    "X_train = dv.fit_transform(train_dicts)\n",
    "X_val = dv.transform(val_dicts)\n",
    "\n",
    "model = LogisticRegression(solver='liblinear', C=1.0, max_iter=1000)\n",
    "model.fit(X_train, y_train)\n",
    "\n",
    "y_pred = model.predict_proba(X_val)[:, 1]\n",
    "auc_val = roc_auc_score(y_val, y_pred)\n",
    "\n",
    "print(\"\\nValidation AUC:\", round(auc_val, 3))"
   ]
  },
  {
   "cell_type": "markdown",
   "id": "57bf0c5e",
   "metadata": {},
   "source": [
    "### Question 3: Precision & Recall curves"
   ]
  },
  {
   "cell_type": "code",
   "execution_count": 7,
   "id": "59c36171",
   "metadata": {},
   "outputs": [
    {
     "data": {
      "image/png": "[encoded data removed]",
      "text/plain": [
       "<Figure size 700x500 with 1 Axes>"
      ]
     },
     "metadata": {},
     "output_type": "display_data"
    },
    {
     "name": "stdout",
     "output_type": "stream",
     "text": [
      "Precision/Recall intersect threshold: 0.644\n"
     ]
    }
   ],
   "source": [
    "precisions, recalls, thresholds = precision_recall_curve(y_val, y_pred)\n",
    "\n",
    "plt.figure(figsize=(7,5))\n",
    "plt.plot(thresholds, precisions[:-1], label=\"Precision\")\n",
    "plt.plot(thresholds, recalls[:-1], label=\"Recall\")\n",
    "plt.xlabel(\"Threshold\")\n",
    "plt.ylabel(\"Score\")\n",
    "plt.legend()\n",
    "plt.title(\"Precision–Recall vs Threshold\")\n",
    "plt.grid(True)\n",
    "plt.show()\n",
    "\n",
    "# Find threshold where they intersect\n",
    "diff = np.abs(precisions[:-1] - recalls[:-1])\n",
    "th_intersect = thresholds[np.argmin(diff)]\n",
    "print(\"Precision/Recall intersect threshold:\", round(th_intersect, 3))"
   ]
  },
  {
   "cell_type": "markdown",
   "id": "8c99aacf",
   "metadata": {},
   "source": [
    "### Question 4: F1 score"
   ]
  },
  {
   "cell_type": "code",
   "execution_count": 8,
   "id": "9641dea0",
   "metadata": {},
   "outputs": [
    {
     "name": "stdout",
     "output_type": "stream",
     "text": [
      "Max F1 threshold: 0.554\n",
      "Max F1 value: 0.815\n"
     ]
    },
    {
     "data": {
      "image/png": "[encoded data removed]",
      "text/plain": [
       "<Figure size 700x500 with 1 Axes>"
      ]
     },
     "metadata": {},
     "output_type": "display_data"
    }
   ],
   "source": [
    "f1_scores = 2 * (precisions[:-1] * recalls[:-1]) / (precisions[:-1] + recalls[:-1])\n",
    "best_idx = np.argmax(f1_scores)\n",
    "print(\"Max F1 threshold:\", round(thresholds[best_idx], 3))\n",
    "print(\"Max F1 value:\", round(f1_scores[best_idx], 3))\n",
    "\n",
    "plt.figure(figsize=(7,5))\n",
    "plt.plot(thresholds, f1_scores, label=\"F1\")\n",
    "plt.xlabel(\"Threshold\")\n",
    "plt.ylabel(\"F1 score\")\n",
    "plt.title(\"F1 vs Threshold\")\n",
    "plt.grid(True)\n",
    "plt.show()"
   ]
  },
  {
   "cell_type": "markdown",
   "id": "1b05cd13",
   "metadata": {},
   "source": [
    "### Question 5: 5-Fold Cross-Validation"
   ]
  },
  {
   "cell_type": "code",
   "execution_count": 9,
   "id": "58ffd6c9",
   "metadata": {},
   "outputs": [
    {
     "name": "stdout",
     "output_type": "stream",
     "text": [
      "Requirement already satisfied: tqdm in /usr/local/python/3.12.1/lib/python3.12/site-packages (4.67.1)\n",
      "\n",
      "\u001b[1m[\u001b[0m\u001b[34;49mnotice\u001b[0m\u001b[1;39;49m]\u001b[0m\u001b[39;49m A new release of pip is available: \u001b[0m\u001b[31;49m25.1.1\u001b[0m\u001b[39;49m -> \u001b[0m\u001b[32;49m25.2\u001b[0m\n",
      "\u001b[1m[\u001b[0m\u001b[34;49mnotice\u001b[0m\u001b[1;39;49m]\u001b[0m\u001b[39;49m To update, run: \u001b[0m\u001b[32;49mpython3 -m pip install --upgrade pip\u001b[0m\n"
     ]
    }
   ],
   "source": [
    "!pip install tqdm\n",
    "from tqdm import tqdm"
   ]
  },
  {
   "cell_type": "code",
   "execution_count": 10,
   "id": "aa80631e",
   "metadata": {},
   "outputs": [
    {
     "name": "stderr",
     "output_type": "stream",
     "text": [
      "5it [00:00, 42.72it/s]"
     ]
    },
    {
     "name": "stdout",
     "output_type": "stream",
     "text": [
      "\n",
      "Fold AUCs: [0.806, 0.871, 0.775, 0.802, 0.856]\n",
      "Mean: 0.822 Std: 0.036\n"
     ]
    },
    {
     "name": "stderr",
     "output_type": "stream",
     "text": [
      "\n"
     ]
    }
   ],
   "source": [
    "from tqdm import tqdm\n",
    "\n",
    "kf = KFold(n_splits=5, shuffle=True, random_state=1)\n",
    "\n",
    "scores = []\n",
    "\n",
    "for train_idx, val_idx in tqdm(kf.split(df_full_train)):\n",
    "    df_train_kf = df_full_train.iloc[train_idx]\n",
    "    df_val_kf = df_full_train.iloc[val_idx]\n",
    "\n",
    "    y_train_kf = df_train_kf.converted.values\n",
    "    y_val_kf = df_val_kf.converted.values\n",
    "\n",
    "    train_dicts = df_train_kf.drop('converted', axis=1).to_dict(orient='records')\n",
    "    val_dicts = df_val_kf.drop('converted', axis=1).to_dict(orient='records')\n",
    "\n",
    "    X_train_kf = dv.fit_transform(train_dicts)\n",
    "    X_val_kf = dv.transform(val_dicts)\n",
    "\n",
    "    model = LogisticRegression(solver='liblinear', C=1.0, max_iter=1000)\n",
    "    model.fit(X_train_kf, y_train_kf)\n",
    "    y_pred_kf = model.predict_proba(X_val_kf)[:, 1]\n",
    "    auc = roc_auc_score(y_val_kf, y_pred_kf)\n",
    "    scores.append(auc)\n",
    "\n",
    "print(\"\\nFold AUCs:\", [round(s, 3) for s in scores])\n",
    "print(\"Mean:\", round(np.mean(scores), 3), \"Std:\", round(np.std(scores), 3))"
   ]
  },
  {
   "cell_type": "markdown",
   "id": "30b968d7",
   "metadata": {},
   "source": [
    "### Question 6: Hyperparameter tuning"
   ]
  },
  {
   "cell_type": "code",
   "execution_count": 11,
   "id": "37051441",
   "metadata": {},
   "outputs": [
    {
     "name": "stdout",
     "output_type": "stream",
     "text": [
      "\n",
      "C=1e-06: mean=0.560, std=0.024\n",
      "\n",
      "C=0.001: mean=0.867, std=0.029\n",
      "\n",
      "C=1: mean=0.822, std=0.036\n"
     ]
    }
   ],
   "source": [
    "for C in [0.000001, 0.001, 1]:\n",
    "    scores = []\n",
    "    for train_idx, val_idx in kf.split(df_full_train):\n",
    "        df_train_kf = df_full_train.iloc[train_idx]\n",
    "        df_val_kf = df_full_train.iloc[val_idx]\n",
    "\n",
    "        y_train_kf = df_train_kf.converted.values\n",
    "        y_val_kf = df_val_kf.converted.values\n",
    "\n",
    "        train_dicts = df_train_kf.drop('converted', axis=1).to_dict(orient='records')\n",
    "        val_dicts = df_val_kf.drop('converted', axis=1).to_dict(orient='records')\n",
    "\n",
    "        X_train_kf = dv.fit_transform(train_dicts)\n",
    "        X_val_kf = dv.transform(val_dicts)\n",
    "\n",
    "        model = LogisticRegression(solver='liblinear', C=C, max_iter=1000)\n",
    "        model.fit(X_train_kf, y_train_kf)\n",
    "        y_pred_kf = model.predict_proba(X_val_kf)[:, 1]\n",
    "        auc = roc_auc_score(y_val_kf, y_pred_kf)\n",
    "        scores.append(auc)\n",
    "\n",
    "    print(f\"\\nC={C}: mean={np.mean(scores):.3f}, std={np.std(scores):.3f}\")"
   ]
  }
 ],
 "metadata": {
  "kernelspec": {
   "display_name": "Python 3",
   "language": "python",
   "name": "python3"
  },
  "language_info": {
   "codemirror_mode": {
    "name": "ipython",
    "version": 3
   },
   "file_extension": ".py",
   "mimetype": "text/x-python",
   "name": "python",
   "nbconvert_exporter": "python",
   "pygments_lexer": "ipython3",
   "version": "3.12.1"
  }
 },
 "nbformat": 4,
 "nbformat_minor": 5
}
