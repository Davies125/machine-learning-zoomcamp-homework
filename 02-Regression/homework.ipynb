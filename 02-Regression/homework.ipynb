{
 "cells": [
  {
   "cell_type": "markdown",
   "id": "bc48e4c2",
   "metadata": {},
   "source": [
    "## Regression Model for predicting car fuel efficiency"
   ]
  },
  {
   "cell_type": "markdown",
   "id": "c2f27b53",
   "metadata": {},
   "source": [
    "### Imports"
   ]
  },
  {
   "cell_type": "code",
   "execution_count": 1,
   "id": "e4f3bf6e",
   "metadata": {},
   "outputs": [],
   "source": [
    "import pandas as pd\n",
    "import numpy as np\n",
    "from sklearn.linear_model import LinearRegression, Ridge\n",
    "from sklearn.metrics import mean_squared_error\n",
    "import matplotlib.pyplot as plt"
   ]
  },
  {
   "cell_type": "markdown",
   "id": "9f20bb12",
   "metadata": {},
   "source": [
    "### Dataset"
   ]
  },
  {
   "cell_type": "code",
   "execution_count": 2,
   "id": "5daaeb36",
   "metadata": {},
   "outputs": [],
   "source": [
    "df = pd.read_csv(\"https://raw.githubusercontent.com/alexeygrigorev/datasets/master/car_fuel_efficiency.csv\")"
   ]
  },
  {
   "cell_type": "code",
   "execution_count": 3,
   "id": "fdb1f957",
   "metadata": {},
   "outputs": [
    {
     "data": {
      "text/html": [
       "<div>\n",
       "<style scoped>\n",
       "    .dataframe tbody tr th:only-of-type {\n",
       "        vertical-align: middle;\n",
       "    }\n",
       "\n",
       "    .dataframe tbody tr th {\n",
       "        vertical-align: top;\n",
       "    }\n",
       "\n",
       "    .dataframe thead th {\n",
       "        text-align: right;\n",
       "    }\n",
       "</style>\n",
       "<table border=\"1\" class=\"dataframe\">\n",
       "  <thead>\n",
       "    <tr style=\"text-align: right;\">\n",
       "      <th></th>\n",
       "      <th>engine_displacement</th>\n",
       "      <th>num_cylinders</th>\n",
       "      <th>horsepower</th>\n",
       "      <th>vehicle_weight</th>\n",
       "      <th>acceleration</th>\n",
       "      <th>model_year</th>\n",
       "      <th>origin</th>\n",
       "      <th>fuel_type</th>\n",
       "      <th>drivetrain</th>\n",
       "      <th>num_doors</th>\n",
       "      <th>fuel_efficiency_mpg</th>\n",
       "    </tr>\n",
       "  </thead>\n",
       "  <tbody>\n",
       "    <tr>\n",
       "      <th>0</th>\n",
       "      <td>170</td>\n",
       "      <td>3.0</td>\n",
       "      <td>159.0</td>\n",
       "      <td>3413.433759</td>\n",
       "      <td>17.7</td>\n",
       "      <td>2003</td>\n",
       "      <td>Europe</td>\n",
       "      <td>Gasoline</td>\n",
       "      <td>All-wheel drive</td>\n",
       "      <td>0.0</td>\n",
       "      <td>13.231729</td>\n",
       "    </tr>\n",
       "    <tr>\n",
       "      <th>1</th>\n",
       "      <td>130</td>\n",
       "      <td>5.0</td>\n",
       "      <td>97.0</td>\n",
       "      <td>3149.664934</td>\n",
       "      <td>17.8</td>\n",
       "      <td>2007</td>\n",
       "      <td>USA</td>\n",
       "      <td>Gasoline</td>\n",
       "      <td>Front-wheel drive</td>\n",
       "      <td>0.0</td>\n",
       "      <td>13.688217</td>\n",
       "    </tr>\n",
       "    <tr>\n",
       "      <th>2</th>\n",
       "      <td>170</td>\n",
       "      <td>NaN</td>\n",
       "      <td>78.0</td>\n",
       "      <td>3079.038997</td>\n",
       "      <td>15.1</td>\n",
       "      <td>2018</td>\n",
       "      <td>Europe</td>\n",
       "      <td>Gasoline</td>\n",
       "      <td>Front-wheel drive</td>\n",
       "      <td>0.0</td>\n",
       "      <td>14.246341</td>\n",
       "    </tr>\n",
       "    <tr>\n",
       "      <th>3</th>\n",
       "      <td>220</td>\n",
       "      <td>4.0</td>\n",
       "      <td>NaN</td>\n",
       "      <td>2542.392402</td>\n",
       "      <td>20.2</td>\n",
       "      <td>2009</td>\n",
       "      <td>USA</td>\n",
       "      <td>Diesel</td>\n",
       "      <td>All-wheel drive</td>\n",
       "      <td>2.0</td>\n",
       "      <td>16.912736</td>\n",
       "    </tr>\n",
       "    <tr>\n",
       "      <th>4</th>\n",
       "      <td>210</td>\n",
       "      <td>1.0</td>\n",
       "      <td>140.0</td>\n",
       "      <td>3460.870990</td>\n",
       "      <td>14.4</td>\n",
       "      <td>2009</td>\n",
       "      <td>Europe</td>\n",
       "      <td>Gasoline</td>\n",
       "      <td>All-wheel drive</td>\n",
       "      <td>2.0</td>\n",
       "      <td>12.488369</td>\n",
       "    </tr>\n",
       "  </tbody>\n",
       "</table>\n",
       "</div>"
      ],
      "text/plain": [
       "   engine_displacement  num_cylinders  horsepower  vehicle_weight  \\\n",
       "0                  170            3.0       159.0     3413.433759   \n",
       "1                  130            5.0        97.0     3149.664934   \n",
       "2                  170            NaN        78.0     3079.038997   \n",
       "3                  220            4.0         NaN     2542.392402   \n",
       "4                  210            1.0       140.0     3460.870990   \n",
       "\n",
       "   acceleration  model_year  origin fuel_type         drivetrain  num_doors  \\\n",
       "0          17.7        2003  Europe  Gasoline    All-wheel drive        0.0   \n",
       "1          17.8        2007     USA  Gasoline  Front-wheel drive        0.0   \n",
       "2          15.1        2018  Europe  Gasoline  Front-wheel drive        0.0   \n",
       "3          20.2        2009     USA    Diesel    All-wheel drive        2.0   \n",
       "4          14.4        2009  Europe  Gasoline    All-wheel drive        2.0   \n",
       "\n",
       "   fuel_efficiency_mpg  \n",
       "0            13.231729  \n",
       "1            13.688217  \n",
       "2            14.246341  \n",
       "3            16.912736  \n",
       "4            12.488369  "
      ]
     },
     "execution_count": 3,
     "metadata": {},
     "output_type": "execute_result"
    }
   ],
   "source": [
    "df.head()"
   ]
  },
  {
   "cell_type": "code",
   "execution_count": 4,
   "id": "463f8baa",
   "metadata": {},
   "outputs": [
    {
     "data": {
      "text/html": [
       "<div>\n",
       "<style scoped>\n",
       "    .dataframe tbody tr th:only-of-type {\n",
       "        vertical-align: middle;\n",
       "    }\n",
       "\n",
       "    .dataframe tbody tr th {\n",
       "        vertical-align: top;\n",
       "    }\n",
       "\n",
       "    .dataframe thead th {\n",
       "        text-align: right;\n",
       "    }\n",
       "</style>\n",
       "<table border=\"1\" class=\"dataframe\">\n",
       "  <thead>\n",
       "    <tr style=\"text-align: right;\">\n",
       "      <th></th>\n",
       "      <th>engine_displacement</th>\n",
       "      <th>horsepower</th>\n",
       "      <th>vehicle_weight</th>\n",
       "      <th>model_year</th>\n",
       "      <th>fuel_efficiency_mpg</th>\n",
       "    </tr>\n",
       "  </thead>\n",
       "  <tbody>\n",
       "    <tr>\n",
       "      <th>0</th>\n",
       "      <td>170</td>\n",
       "      <td>159.0</td>\n",
       "      <td>3413.433759</td>\n",
       "      <td>2003</td>\n",
       "      <td>13.231729</td>\n",
       "    </tr>\n",
       "    <tr>\n",
       "      <th>1</th>\n",
       "      <td>130</td>\n",
       "      <td>97.0</td>\n",
       "      <td>3149.664934</td>\n",
       "      <td>2007</td>\n",
       "      <td>13.688217</td>\n",
       "    </tr>\n",
       "    <tr>\n",
       "      <th>2</th>\n",
       "      <td>170</td>\n",
       "      <td>78.0</td>\n",
       "      <td>3079.038997</td>\n",
       "      <td>2018</td>\n",
       "      <td>14.246341</td>\n",
       "    </tr>\n",
       "    <tr>\n",
       "      <th>3</th>\n",
       "      <td>220</td>\n",
       "      <td>NaN</td>\n",
       "      <td>2542.392402</td>\n",
       "      <td>2009</td>\n",
       "      <td>16.912736</td>\n",
       "    </tr>\n",
       "    <tr>\n",
       "      <th>4</th>\n",
       "      <td>210</td>\n",
       "      <td>140.0</td>\n",
       "      <td>3460.870990</td>\n",
       "      <td>2009</td>\n",
       "      <td>12.488369</td>\n",
       "    </tr>\n",
       "  </tbody>\n",
       "</table>\n",
       "</div>"
      ],
      "text/plain": [
       "   engine_displacement  horsepower  vehicle_weight  model_year  \\\n",
       "0                  170       159.0     3413.433759        2003   \n",
       "1                  130        97.0     3149.664934        2007   \n",
       "2                  170        78.0     3079.038997        2018   \n",
       "3                  220         NaN     2542.392402        2009   \n",
       "4                  210       140.0     3460.870990        2009   \n",
       "\n",
       "   fuel_efficiency_mpg  \n",
       "0            13.231729  \n",
       "1            13.688217  \n",
       "2            14.246341  \n",
       "3            16.912736  \n",
       "4            12.488369  "
      ]
     },
     "execution_count": 4,
     "metadata": {},
     "output_type": "execute_result"
    }
   ],
   "source": [
    "cols = ['engine_displacement', 'horsepower', 'vehicle_weight', 'model_year', 'fuel_efficiency_mpg']\n",
    "df = df[cols]\n",
    "df.head()"
   ]
  },
  {
   "cell_type": "markdown",
   "id": "f82abc9d",
   "metadata": {},
   "source": [
    "### EDA"
   ]
  },
  {
   "cell_type": "code",
   "execution_count": 5,
   "id": "3d161d2c",
   "metadata": {},
   "outputs": [
    {
     "data": {
      "image/png": "[encoded data removed]",
      "text/plain": [
       "<Figure size 640x480 with 1 Axes>"
      ]
     },
     "metadata": {},
     "output_type": "display_data"
    }
   ],
   "source": [
    "plt.hist(df['fuel_efficiency_mpg'], bins=30)\n",
    "plt.title('Distribution of fuel_efficiency_mpg')\n",
    "plt.xlabel('MPG')\n",
    "plt.ylabel('Count')\n",
    "plt.show()  "
   ]
  },
  {
   "cell_type": "markdown",
   "id": "6410738e",
   "metadata": {},
   "source": [
    "The fuel_efficiency_mpg does not have a long tail — it’s approximately normally distributed."
   ]
  },
  {
   "cell_type": "markdown",
   "id": "754fa6e4",
   "metadata": {},
   "source": [
    "### Question 1\n",
    "There's one column with missing values. What is it?"
   ]
  },
  {
   "cell_type": "code",
   "execution_count": 6,
   "id": "3922c3ba",
   "metadata": {},
   "outputs": [
    {
     "name": "stdout",
     "output_type": "stream",
     "text": [
      "Q1: Column with missing values is: horsepower\n"
     ]
    }
   ],
   "source": [
    "missing = df.isna().sum()\n",
    "q1_answer = missing[missing > 0].index[0]\n",
    "print(\"Q1: Column with missing values is:\", q1_answer)"
   ]
  },
  {
   "cell_type": "markdown",
   "id": "9270ff0d",
   "metadata": {},
   "source": [
    "### Question 2\n",
    "What's the median (50% percentile) for variable 'horsepower'?"
   ]
  },
  {
   "cell_type": "code",
   "execution_count": 7,
   "id": "74b492b7",
   "metadata": {},
   "outputs": [
    {
     "name": "stdout",
     "output_type": "stream",
     "text": [
      "Q2: Median horsepower is: 149.0\n"
     ]
    }
   ],
   "source": [
    "h_median = df['horsepower'].median()\n",
    "print(\"Q2: Median horsepower is:\", h_median)"
   ]
  },
  {
   "cell_type": "code",
   "execution_count": 8,
   "id": "bc18ad57",
   "metadata": {},
   "outputs": [],
   "source": [
    "def split_dataset(df, seed=42):\n",
    "    np.random.seed(seed)\n",
    "    df_shuffled = df.sample(frac=1, random_state=seed)\n",
    "    n = len(df_shuffled)\n",
    "    n_train = int(0.6 * n)\n",
    "    n_val = int(0.2 * n)\n",
    "    df_train = df_shuffled.iloc[:n_train]\n",
    "    df_val = df_shuffled.iloc[n_train:n_train + n_val]\n",
    "    df_test = df_shuffled.iloc[n_train + n_val:]\n",
    "    return df_train, df_val, df_test\n",
    "\n",
    "df_train, df_val, df_test = split_dataset(df, seed=42)  "
   ]
  },
  {
   "cell_type": "code",
   "execution_count": 9,
   "id": "80c78b34",
   "metadata": {},
   "outputs": [],
   "source": [
    "def get_X_y(df):\n",
    "    X = df[['engine_displacement', 'horsepower', 'vehicle_weight', 'model_year']].values\n",
    "    y = df['fuel_efficiency_mpg'].values\n",
    "    return X, y\n",
    "\n",
    "def rmse(y_true, y_pred):\n",
    "    return mean_squared_error(y_true, y_pred, squared=False)"
   ]
  },
  {
   "cell_type": "markdown",
   "id": "044ee778",
   "metadata": {},
   "source": [
    "### Question 3"
   ]
  },
  {
   "cell_type": "code",
   "execution_count": 10,
   "id": "940e9064",
   "metadata": {},
   "outputs": [
    {
     "name": "stdout",
     "output_type": "stream",
     "text": [
      "Q3 -> Fill 0 RMSE: 0.52\n",
      "Q3 -> Fill mean RMSE: 0.46\n",
      "Q3 Answer: With mean\n"
     ]
    }
   ],
   "source": [
    "def fill_and_evaluate(method='zero'):\n",
    "    train = df_train.copy()\n",
    "    val = df_val.copy()\n",
    "\n",
    "    # dealing with missing values and filling them with zero\n",
    "    if method == 'zero':\n",
    "        train = train.fillna(0)\n",
    "        val = val.fillna(0)\n",
    "    elif method == 'mean':\n",
    "        mean_values = train.mean(numeric_only=True)\n",
    "        train = train.fillna(mean_values)\n",
    "        val = val.fillna(mean_values)\n",
    "    else:\n",
    "        raise ValueError(\"method must be 'zero' or 'mean'\")\n",
    "\n",
    "    # Next we Extract features and target\n",
    "    X_train, y_train = get_X_y(train)\n",
    "    X_val, y_val = get_X_y(val)\n",
    "\n",
    "    # Training the Linear Regression model\n",
    "    model = LinearRegression()\n",
    "    model.fit(X_train, y_train)\n",
    "    y_pred = model.predict(X_val)\n",
    "\n",
    "    # RMSE \n",
    "    rmse_value = np.sqrt(mean_squared_error(y_val, y_pred))\n",
    "\n",
    "    return round(rmse_value, 2)\n",
    "\n",
    "# Evaluating both methods\n",
    "rmse_zero = fill_and_evaluate('zero')\n",
    "rmse_mean = fill_and_evaluate('mean')\n",
    "\n",
    "# Choosing the better option\n",
    "if rmse_zero < rmse_mean:\n",
    "    q3_answer = 'With 0'\n",
    "elif rmse_mean < rmse_zero:\n",
    "    q3_answer = 'With mean'\n",
    "else:\n",
    "    q3_answer = 'Both are equally good'\n",
    "\n",
    "print(\"Q3 -> Fill 0 RMSE:\", rmse_zero)\n",
    "print(\"Q3 -> Fill mean RMSE:\", rmse_mean)\n",
    "print(\"Q3 Answer:\", q3_answer)\n"
   ]
  },
  {
   "cell_type": "markdown",
   "id": "b4ef33cc",
   "metadata": {},
   "source": [
    "### Question 4\n",
    "Training a regularized linear regression (Ridge regularization)"
   ]
  },
  {
   "cell_type": "code",
   "execution_count": 11,
   "id": "f8b31ffa",
   "metadata": {},
   "outputs": [
    {
     "name": "stdout",
     "output_type": "stream",
     "text": [
      "Validation RMSE per r:\n",
      "r=0: RMSE=0.52\n",
      "r=0.01: RMSE=0.52\n",
      "r=0.1: RMSE=0.52\n",
      "r=1: RMSE=0.52\n",
      "r=5: RMSE=0.52\n",
      "r=10: RMSE=0.52\n",
      "r=100: RMSE=0.52\n",
      "\n",
      "Q4 Answer -> Best r: 0\n"
     ]
    }
   ],
   "source": [
    "r_values = [0, 0.01, 0.1, 1, 5, 10, 100]\n",
    "rmse_scores = {}\n",
    "\n",
    "# Filling missing values with 0\n",
    "train_filled = df_train.fillna(0)\n",
    "val_filled = df_val.fillna(0)\n",
    "\n",
    "# Preparing X, y for training and validation\n",
    "X_train, y_train = get_X_y(train_filled)\n",
    "X_val, y_val = get_X_y(val_filled)\n",
    "\n",
    "# Looping through each r value\n",
    "for r in r_values:\n",
    "    if r == 0:\n",
    "        model = LinearRegression()\n",
    "    else:\n",
    "        model = Ridge(alpha=r)\n",
    "\n",
    "    model.fit(X_train, y_train)\n",
    "    y_pred = model.predict(X_val)\n",
    "\n",
    "    # Computing RMSE \n",
    "    rmse_value = np.sqrt(mean_squared_error(y_val, y_pred))\n",
    "    rmse_scores[r] = round(rmse_value, 2)\n",
    "\n",
    "print(\"Validation RMSE per r:\")\n",
    "for r, score in rmse_scores.items():\n",
    "    print(f\"r={r}: RMSE={score}\")\n",
    "\n",
    "# Pick best r (lowest RMSE, smallest r if tied)\n",
    "best_r = min(rmse_scores, key=lambda k: (rmse_scores[k], k))\n",
    "q4_answer = best_r\n",
    "\n",
    "print(\"\\nQ4 Answer -> Best r:\", q4_answer)\n"
   ]
  },
  {
   "cell_type": "markdown",
   "id": "bfa3147f",
   "metadata": {},
   "source": [
    "### Question 5 \n",
    "Effect of Seed on Validation RMSE"
   ]
  },
  {
   "cell_type": "code",
   "execution_count": 12,
   "id": "e3dab990",
   "metadata": {},
   "outputs": [
    {
     "name": "stdout",
     "output_type": "stream",
     "text": [
      "Validation RMSEs for seeds 0–9: [np.float64(0.52), np.float64(0.52), np.float64(0.52), np.float64(0.52), np.float64(0.51), np.float64(0.53), np.float64(0.53), np.float64(0.51), np.float64(0.51), np.float64(0.51)]\n",
      "\n",
      "Q5 Answer -> Std of RMSEs: 0.007\n"
     ]
    }
   ],
   "source": [
    "val_scores = []\n",
    "\n",
    "for seed in range(10):\n",
    "    # Split dataset with current seed\n",
    "    df_train, df_val, df_test = split_dataset(df, seed=seed)\n",
    "\n",
    "    # Fill missing values with 0\n",
    "    train_filled = df_train.fillna(0)\n",
    "    val_filled = df_val.fillna(0)\n",
    "\n",
    "    # features and target\n",
    "    X_train, y_train = get_X_y(train_filled)\n",
    "    X_val, y_val = get_X_y(val_filled)\n",
    "\n",
    "    # Train model\n",
    "    model = LinearRegression()\n",
    "    model.fit(X_train, y_train)\n",
    "\n",
    "    # Predict and compute RMSE\n",
    "    y_pred = model.predict(X_val)\n",
    "    rmse_value = np.sqrt(mean_squared_error(y_val, y_pred))\n",
    "    val_scores.append(round(rmse_value, 2))\n",
    "\n",
    "# standard deviation of RMSEs\n",
    "std_rmse = round(np.std(val_scores), 3)\n",
    "q5_answer = std_rmse\n",
    "\n",
    "print(\"Validation RMSEs for seeds 0–9:\", val_scores)\n",
    "print(\"\\nQ5 Answer -> Std of RMSEs:\", q5_answer)\n"
   ]
  },
  {
   "cell_type": "markdown",
   "id": "aa8071f2",
   "metadata": {},
   "source": [
    " ### Question 6 "
   ]
  },
  {
   "cell_type": "code",
   "execution_count": 13,
   "id": "d99a1f19",
   "metadata": {},
   "outputs": [
    {
     "name": "stdout",
     "output_type": "stream",
     "text": [
      "Q6 -> Test RMSE (r = 0.001, seed = 9): 0.515\n"
     ]
    }
   ],
   "source": [
    "# Split data, seed=9\n",
    "df_train, df_val, df_test = split_dataset(df, seed=9)\n",
    "\n",
    "# Combine train + validation\n",
    "df_train_val = pd.concat([df_train, df_val]).reset_index(drop=True)\n",
    "\n",
    "# Fill missing values with 0\n",
    "train_val_filled = df_train_val.fillna(0)\n",
    "test_filled = df_test.fillna(0)\n",
    "\n",
    "# features and targets\n",
    "X_train_val, y_train_val = get_X_y(train_val_filled)\n",
    "X_test, y_test = get_X_y(test_filled)\n",
    "\n",
    "# Train Ridge model (r = 0.001)\n",
    "model = Ridge(alpha=0.001)\n",
    "model.fit(X_train_val, y_train_val)\n",
    "\n",
    "# Predict and compute RMSE\n",
    "y_pred_test = model.predict(X_test)\n",
    "rmse_test = np.sqrt(mean_squared_error(y_test, y_pred_test))\n",
    "q6_answer = round(rmse_test, 3)\n",
    "\n",
    "print(\"Q6 -> Test RMSE (r = 0.001, seed = 9):\", q6_answer)\n"
   ]
  }
 ],
 "metadata": {
  "kernelspec": {
   "display_name": "Python 3",
   "language": "python",
   "name": "python3"
  },
  "language_info": {
   "codemirror_mode": {
    "name": "ipython",
    "version": 3
   },
   "file_extension": ".py",
   "mimetype": "text/x-python",
   "name": "python",
   "nbconvert_exporter": "python",
   "pygments_lexer": "ipython3",
   "version": "3.12.1"
  }
 },
 "nbformat": 4,
 "nbformat_minor": 5
}
